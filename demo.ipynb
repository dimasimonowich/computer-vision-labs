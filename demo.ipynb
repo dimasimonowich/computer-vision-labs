{
 "cells": [
  {
   "cell_type": "markdown",
   "id": "3fc10214",
   "metadata": {},
   "source": [
    "### Dependencies"
   ]
  },
  {
   "cell_type": "code",
   "execution_count": null,
   "id": "ed12a2b4",
   "metadata": {},
   "outputs": [],
   "source": [
    "!pip install sklearn"
   ]
  },
  {
   "cell_type": "code",
   "execution_count": 1,
   "id": "678ad0f5",
   "metadata": {},
   "outputs": [],
   "source": [
    "from sklearn.datasets import fetch_openml\n",
    "from sklearn.model_selection import train_test_split\n",
    "import numpy as np\n",
    "from matplotlib import pyplot as plt"
   ]
  },
  {
   "cell_type": "markdown",
   "id": "06be31fd",
   "metadata": {},
   "source": [
    "### MNIST Dataset"
   ]
  },
  {
   "cell_type": "code",
   "execution_count": 2,
   "id": "e99ee96f",
   "metadata": {},
   "outputs": [],
   "source": [
    "# Loading the dataset \n",
    "full_X, full_y = fetch_openml('mnist_784',  version=1, return_X_y=True, as_frame=False)\n",
    "\n",
    "# Take only \"0\" and \"1\" \n",
    "mask  = (full_y == '0') | (full_y == '1')\n",
    "y = full_y[mask].astype(int)\n",
    "X = full_X[mask]\n",
    "\n",
    "# All pixels, which > 255/2 replace with 1 and which < 255/2 replace with 0\n",
    "condition = (X > 255./2)\n",
    "X = np.where(condition, 1, 0)"
   ]
  },
  {
   "cell_type": "code",
   "execution_count": 3,
   "id": "abf2aeb8",
   "metadata": {},
   "outputs": [
    {
     "data": {
      "image/png": "[encoded data removed]",
      "text/plain": [
       "<Figure size 576x576 with 4 Axes>"
      ]
     },
     "metadata": {
      "needs_background": "light"
     },
     "output_type": "display_data"
    }
   ],
   "source": [
    "# Visualize images and its labels\n",
    "fig, ax = plt.subplots(2, 2, figsize=(8, 8))\n",
    "ax[0, 0].imshow(X[0].reshape((28, 28)), cmap='gray')\n",
    "ax[0, 0].set_title(y[0])\n",
    "ax[0, 1].imshow(X[1].reshape((28, 28)), cmap='gray')\n",
    "ax[0, 1].set_title(y[1])\n",
    "ax[1, 0].imshow(X[2].reshape((28, 28)), cmap='gray')\n",
    "ax[1, 0].set_title(y[2])\n",
    "ax[1, 1].imshow(X[3].reshape((28, 28)), cmap='gray')\n",
    "ax[1, 1].set_title(y[3])\n",
    "\n",
    "plt.show()"
   ]
  },
  {
   "cell_type": "code",
   "execution_count": 4,
   "id": "34277f79",
   "metadata": {},
   "outputs": [],
   "source": [
    "# Spliting our dataset to train adn test\n",
    "X_train, X_test, y_train, y_test = train_test_split(X, y, test_size=0.1, random_state=142)"
   ]
  },
  {
   "cell_type": "markdown",
   "id": "aacea883",
   "metadata": {},
   "source": [
    "### EM model"
   ]
  },
  {
   "cell_type": "markdown",
   "id": "286939e6",
   "metadata": {},
   "source": [
    "**Important Note:** Since EM is algorithm for unsuperised learning it may swap labels, but still separate them well. It depends on first image in the set, so may vary in different runs. In order to use `accuracy` metric I display both `accuracy` and `1 - accuracy`. The bigger one will depict real performance of the algorithm"
   ]
  },
  {
   "cell_type": "code",
   "execution_count": 8,
   "id": "ea7aa416",
   "metadata": {
    "scrolled": false
   },
   "outputs": [
    {
     "name": "stdout",
     "output_type": "stream",
     "text": [
      "Model accuracy on training set: 0.005112013231093069 or 0.9948879867689069\n"
     ]
    }
   ],
   "source": [
    "# Importing model\n",
    "from models.em_model import EM\n",
    "\n",
    "# Initialize EM model with default settings\n",
    "em = EM()\n",
    "\n",
    "# Obtaining predictions on training set\n",
    "prediction = em.fit_predict(X_train)\n",
    "\n",
    "# Computing accuracy since we have balanced classes\n",
    "accuracy = sum(prediction == y_train)/y_train.shape[0]\n",
    "print(f\"Model accuracy on training set: {accuracy} or {1 - accuracy}\")"
   ]
  },
  {
   "cell_type": "code",
   "execution_count": 6,
   "id": "ceb859dd",
   "metadata": {},
   "outputs": [
    {
     "data": {
      "image/png": "[encoded data removed]",
      "text/plain": [
       "<Figure size 432x288 with 1 Axes>"
      ]
     },
     "metadata": {
      "needs_background": "light"
     },
     "output_type": "display_data"
    },
    {
     "data": {
      "image/png": "[encoded data removed]",
      "text/plain": [
       "<Figure size 432x288 with 1 Axes>"
      ]
     },
     "metadata": {
      "needs_background": "light"
     },
     "output_type": "display_data"
    }
   ],
   "source": [
    "# Plotting p_ij_classes we will obtain \"scatches\" of images, belonging to a certain class\n",
    "plt.imshow(em.p_ij_classes[0].reshape(28, 28), cmap='gray')\n",
    "plt.show()\n",
    "\n",
    "plt.imshow(em.p_ij_classes[1].reshape(28, 28), cmap='gray')\n",
    "plt.show()"
   ]
  },
  {
   "cell_type": "code",
   "execution_count": 9,
   "id": "ee1defec",
   "metadata": {},
   "outputs": [
    {
     "name": "stdout",
     "output_type": "stream",
     "text": [
      "Model accuracy on test set: 0.0020297699594046007 or 0.9979702300405954\n"
     ]
    }
   ],
   "source": [
    "em = EM()\n",
    "prediction = em.fit_predict(X_test)\n",
    "\n",
    "accuracy = sum(prediction == y_test)/y_test.shape[0]\n",
    "print(f\"Model accuracy on test set: {accuracy} or {1 - accuracy}\")"
   ]
  }
 ],
 "metadata": {
  "kernelspec": {
   "display_name": "Python 3",
   "language": "python",
   "name": "python3"
  },
  "language_info": {
   "codemirror_mode": {
    "name": "ipython",
    "version": 3
   },
   "file_extension": ".py",
   "mimetype": "text/x-python",
   "name": "python",
   "nbconvert_exporter": "python",
   "pygments_lexer": "ipython3",
   "version": "3.9.4"
  }
 },
 "nbformat": 4,
 "nbformat_minor": 5
}