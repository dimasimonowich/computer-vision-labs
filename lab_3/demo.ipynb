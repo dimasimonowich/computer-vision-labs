{
 "cells": [
  {
   "cell_type": "code",
   "execution_count": 1,
   "id": "ba52a503",
   "metadata": {},
   "outputs": [],
   "source": [
    "import numpy as np\n",
    "import json"
   ]
  },
  {
   "cell_type": "code",
   "execution_count": 2,
   "id": "a021eb5a",
   "metadata": {},
   "outputs": [
    {
     "data": {
      "text/plain": [
       "[[5, 3, 0, 0, 7, 0, 0, 0, 0],\n",
       " [6, 0, 0, 1, 9, 5, 0, 0, 0],\n",
       " [0, 9, 8, 0, 0, 0, 0, 6, 0],\n",
       " [8, 0, 0, 0, 6, 0, 0, 0, 3],\n",
       " [4, 0, 0, 8, 0, 3, 0, 0, 1],\n",
       " [7, 0, 0, 0, 2, 0, 0, 0, 6],\n",
       " [0, 6, 0, 0, 0, 0, 2, 8, 0],\n",
       " [0, 0, 0, 4, 1, 9, 0, 0, 5],\n",
       " [0, 0, 0, 0, 8, 0, 0, 7, 9]]"
      ]
     },
     "execution_count": 2,
     "metadata": {},
     "output_type": "execute_result"
    }
   ],
   "source": [
    "sudoku_01 = json.load(open(\"data/sudoku_01.json\"))\n",
    "sudoku_02 = json.load(open(\"data/sudoku_02.json\"))\n",
    "\n",
    "sudoku_01"
   ]
  },
  {
   "cell_type": "code",
   "execution_count": 3,
   "id": "fde94c48",
   "metadata": {},
   "outputs": [
    {
     "name": "stderr",
     "output_type": "stream",
     "text": [
      "C:\\Users\\meled\\OneDrive\\Рабочий стол\\computer-vision-labs\\lab_3\\models\\sudoku.py:33: VisibleDeprecationWarning: Creating an ndarray from ragged nested sequences (which is a list-or-tuple of lists-or-tuples-or ndarrays with different lengths or shapes) is deprecated. If you meant to do this, you must specify 'dtype=object' when creating the ndarray.\n",
      "  return np.array(field_labels)\n"
     ]
    },
    {
     "data": {
      "text/plain": [
       "<models.sudoku.Sudoku at 0x178cb83bd60>"
      ]
     },
     "execution_count": 3,
     "metadata": {},
     "output_type": "execute_result"
    }
   ],
   "source": [
    "from models.sudoku import Sudoku\n",
    "\n",
    "s = Sudoku(sudoku_01)\n",
    "s"
   ]
  },
  {
   "cell_type": "code",
   "execution_count": 13,
   "id": "e6eaf42d",
   "metadata": {},
   "outputs": [
    {
     "data": {
      "text/plain": [
       "array([[list([5]), list([3]), list([1, 2, 3, 4, 5, 6, 7, 8, 9]),\n",
       "        list([1, 2, 3, 4, 5, 6, 7, 8, 9]), list([7]),\n",
       "        list([1, 2, 3, 4, 5, 6, 7, 8, 9]),\n",
       "        list([1, 2, 3, 4, 5, 6, 7, 8, 9]),\n",
       "        list([1, 2, 3, 4, 5, 6, 7, 8, 9]),\n",
       "        list([1, 2, 3, 4, 5, 6, 7, 8, 9])],\n",
       "       [list([6]), list([1, 2, 3, 4, 5, 6, 7, 8, 9]),\n",
       "        list([1, 2, 3, 4, 5, 6, 7, 8, 9]), list([1]), list([9]),\n",
       "        list([5]), list([1, 2, 3, 4, 5, 6, 7, 8, 9]),\n",
       "        list([1, 2, 3, 4, 5, 6, 7, 8, 9]),\n",
       "        list([1, 2, 3, 4, 5, 6, 7, 8, 9])],\n",
       "       [list([1, 2, 3, 4, 5, 6, 7, 8, 9]), list([9]), list([8]),\n",
       "        list([1, 2, 3, 4, 5, 6, 7, 8, 9]),\n",
       "        list([1, 2, 3, 4, 5, 6, 7, 8, 9]),\n",
       "        list([1, 2, 3, 4, 5, 6, 7, 8, 9]),\n",
       "        list([1, 2, 3, 4, 5, 6, 7, 8, 9]), list([6]),\n",
       "        list([1, 2, 3, 4, 5, 6, 7, 8, 9])],\n",
       "       [list([8]), list([1, 2, 3, 4, 5, 6, 7, 8, 9]),\n",
       "        list([1, 2, 3, 4, 5, 6, 7, 8, 9]),\n",
       "        list([1, 2, 3, 4, 5, 6, 7, 8, 9]), list([6]),\n",
       "        list([1, 2, 3, 4, 5, 6, 7, 8, 9]),\n",
       "        list([1, 2, 3, 4, 5, 6, 7, 8, 9]),\n",
       "        list([1, 2, 3, 4, 5, 6, 7, 8, 9]), list([3])],\n",
       "       [list([4]), list([1, 2, 3, 4, 5, 6, 7, 8, 9]),\n",
       "        list([1, 2, 3, 4, 5, 6, 7, 8, 9]), list([8]),\n",
       "        list([1, 2, 3, 4, 5, 6, 7, 8, 9]), list([3]),\n",
       "        list([1, 2, 3, 4, 5, 6, 7, 8, 9]),\n",
       "        list([1, 2, 3, 4, 5, 6, 7, 8, 9]), list([1])],\n",
       "       [list([7]), list([1, 2, 3, 4, 5, 6, 7, 8, 9]),\n",
       "        list([1, 2, 3, 4, 5, 6, 7, 8, 9]),\n",
       "        list([1, 2, 3, 4, 5, 6, 7, 8, 9]), list([2]),\n",
       "        list([1, 2, 3, 4, 5, 6, 7, 8, 9]),\n",
       "        list([1, 2, 3, 4, 5, 6, 7, 8, 9]),\n",
       "        list([1, 2, 3, 4, 5, 6, 7, 8, 9]), list([6])],\n",
       "       [list([1, 2, 3, 4, 5, 6, 7, 8, 9]), list([6]),\n",
       "        list([1, 2, 3, 4, 5, 6, 7, 8, 9]),\n",
       "        list([1, 2, 3, 4, 5, 6, 7, 8, 9]),\n",
       "        list([1, 2, 3, 4, 5, 6, 7, 8, 9]),\n",
       "        list([1, 2, 3, 4, 5, 6, 7, 8, 9]), list([2]), list([8]),\n",
       "        list([1, 2, 3, 4, 5, 6, 7, 8, 9])],\n",
       "       [list([1, 2, 3, 4, 5, 6, 7, 8, 9]),\n",
       "        list([1, 2, 3, 4, 5, 6, 7, 8, 9]),\n",
       "        list([1, 2, 3, 4, 5, 6, 7, 8, 9]), list([4]), list([1]),\n",
       "        list([9]), list([1, 2, 3, 4, 5, 6, 7, 8, 9]),\n",
       "        list([1, 2, 3, 4, 5, 6, 7, 8, 9]), list([5])],\n",
       "       [list([1, 2, 3, 4, 5, 6, 7, 8, 9]),\n",
       "        list([1, 2, 3, 4, 5, 6, 7, 8, 9]),\n",
       "        list([1, 2, 3, 4, 5, 6, 7, 8, 9]),\n",
       "        list([1, 2, 3, 4, 5, 6, 7, 8, 9]), list([8]),\n",
       "        list([1, 2, 3, 4, 5, 6, 7, 8, 9]),\n",
       "        list([1, 2, 3, 4, 5, 6, 7, 8, 9]), list([7]), list([9])]],\n",
       "      dtype=object)"
      ]
     },
     "execution_count": 13,
     "metadata": {},
     "output_type": "execute_result"
    }
   ],
   "source": [
    "s.field_labels"
   ]
  },
  {
   "cell_type": "code",
   "execution_count": 8,
   "id": "87d49d6f",
   "metadata": {},
   "outputs": [
    {
     "data": {
      "text/plain": [
       "[1, 2, 3, 4, 5, 6, 7, 8, 9]"
      ]
     },
     "execution_count": 8,
     "metadata": {},
     "output_type": "execute_result"
    }
   ],
   "source": [
    "s.field_labels[0][2]"
   ]
  },
  {
   "cell_type": "code",
   "execution_count": 9,
   "id": "15309fe0",
   "metadata": {},
   "outputs": [
    {
     "data": {
      "text/plain": [
       "[6]"
      ]
     },
     "execution_count": 9,
     "metadata": {},
     "output_type": "execute_result"
    }
   ],
   "source": [
    "s.field_labels[1][0]"
   ]
  }
 ],
 "metadata": {
  "kernelspec": {
   "display_name": "Python 3 (ipykernel)",
   "language": "python",
   "name": "python3"
  },
  "language_info": {
   "codemirror_mode": {
    "name": "ipython",
    "version": 3
   },
   "file_extension": ".py",
   "mimetype": "text/x-python",
   "name": "python",
   "nbconvert_exporter": "python",
   "pygments_lexer": "ipython3",
   "version": "3.9.7"
  }
 },
 "nbformat": 4,
 "nbformat_minor": 5
}