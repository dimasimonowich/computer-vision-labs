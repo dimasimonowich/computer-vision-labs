{
 "cells": [
  {
   "cell_type": "code",
   "execution_count": 15,
   "id": "ba52a503",
   "metadata": {},
   "outputs": [],
   "source": [
    "import numpy as np\n",
    "import json\n",
    "from models.koz_model import KozModel"
   ]
  },
  {
   "cell_type": "code",
   "execution_count": 16,
   "id": "4253f11e",
   "metadata": {},
   "outputs": [],
   "source": [
    "def score(pred, y):\n",
    "    score = np.sum(pred == y)/len(y)\n",
    "    return score"
   ]
  },
  {
   "cell_type": "code",
   "execution_count": 17,
   "id": "cd894fd8",
   "metadata": {},
   "outputs": [
    {
     "name": "stdout",
     "output_type": "stream",
     "text": [
      "(29, 2) (29,)\n"
     ]
    }
   ],
   "source": [
    "data = json.load(open(\"data/train_01.json\"))\n",
    "\n",
    "x_in = data['inside']\n",
    "x_out = data['outside']\n",
    "\n",
    "y_in = np.ones(len(x_in))\n",
    "y_out = -np.ones(len(x_out))\n",
    "    \n",
    "X = np.vstack([x_in, x_out]) \n",
    "y = np.concatenate([y_in, y_out])\n",
    "\n",
    "print(X.shape, y.shape)"
   ]
  },
  {
   "cell_type": "code",
   "execution_count": 18,
   "id": "bcd6aa42",
   "metadata": {},
   "outputs": [
    {
     "data": {
      "text/plain": [
       "1.0"
      ]
     },
     "execution_count": 18,
     "metadata": {},
     "output_type": "execute_result"
    }
   ],
   "source": [
    "classifier = KozModel()\n",
    "\n",
    "pred = classifier.fit_predict(X, y)\n",
    "\n",
    "score(pred, y)"
   ]
  },
  {
   "cell_type": "code",
   "execution_count": 19,
   "id": "1e60985e",
   "metadata": {},
   "outputs": [
    {
     "name": "stdout",
     "output_type": "stream",
     "text": [
      "(29, 2) (29,)\n"
     ]
    }
   ],
   "source": [
    "data = json.load(open(\"data/train_01.json\"))\n",
    "\n",
    "x_in = data['inside']\n",
    "x_out = data['outside']\n",
    "\n",
    "y_in = np.ones(len(x_in))\n",
    "y_out = -np.ones(len(x_out))\n",
    "    \n",
    "X = np.vstack([x_in, x_out]) \n",
    "y = np.concatenate([y_in, y_out])\n",
    "\n",
    "print(X.shape, y.shape)"
   ]
  },
  {
   "cell_type": "code",
   "execution_count": 20,
   "id": "b573a1ad",
   "metadata": {},
   "outputs": [
    {
     "data": {
      "text/plain": [
       "1.0"
      ]
     },
     "execution_count": 20,
     "metadata": {},
     "output_type": "execute_result"
    }
   ],
   "source": [
    "classifier = KozModel()\n",
    "\n",
    "pred = classifier.fit_predict(X, y)\n",
    "\n",
    "score(pred, y)"
   ]
  }
 ],
 "metadata": {
  "kernelspec": {
   "display_name": "Python 3",
   "language": "python",
   "name": "python3"
  },
  "language_info": {
   "codemirror_mode": {
    "name": "ipython",
    "version": 3
   },
   "file_extension": ".py",
   "mimetype": "text/x-python",
   "name": "python",
   "nbconvert_exporter": "python",
   "pygments_lexer": "ipython3",
   "version": "3.8.8"
  }
 },
 "nbformat": 4,
 "nbformat_minor": 5
}
